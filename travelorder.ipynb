{
 "cells": [
  {
   "cell_type": "markdown",
   "metadata": {},
   "source": [
    "# Traver Order\n",
    "\n",
    "### Import dependencies"
   ]
  },
  {
   "cell_type": "code",
   "execution_count": 5,
   "metadata": {},
   "outputs": [],
   "source": [
    "import spacy\n",
    "import pandas as pd"
   ]
  },
  {
   "cell_type": "code",
   "execution_count": 20,
   "metadata": {},
   "outputs": [
    {
     "name": "stderr",
     "output_type": "stream",
     "text": [
      "c:\\Users\\charl\\miniconda3\\envs\\travelorder\\Lib\\site-packages\\spacy\\util.py:910: UserWarning: [W095] Model 'fr_pipeline' (0.0.0) was trained with spaCy v3.7.6 and may not be 100% compatible with the current version (3.8.4). If you see errors or degraded performance, download a newer compatible model or retrain your custom model with the current spaCy version. For more details and available updates, run: python -m spacy validate\n",
      "  warnings.warn(warn_msg)\n"
     ]
    },
    {
     "name": "stdout",
     "output_type": "stream",
     "text": [
      "Text: Paris. Label: ORIG\n",
      "Text: Lyon. Label: DEST\n"
     ]
    }
   ],
   "source": [
    "nlp = spacy.load(\"output/model-best-sp\")\n",
    "\n",
    "text = \"Je veux faire Paris Lyon\"\n",
    "doc = nlp(text)\n",
    "for ent in doc.ents:\n",
    "  print(f\"Text: {ent.text}. Label: {ent.label_}\")"
   ]
  },
  {
   "cell_type": "markdown",
   "metadata": {},
   "source": [
    "## Instantiate the Scorer"
   ]
  },
  {
   "cell_type": "code",
   "execution_count": 10,
   "metadata": {},
   "outputs": [],
   "source": [
    "from spacy.scorer import Scorer\n",
    "\n",
    "scorer = Scorer(nlp)"
   ]
  },
  {
   "cell_type": "markdown",
   "metadata": {},
   "source": [
    "## Construct the Example object"
   ]
  },
  {
   "cell_type": "code",
   "execution_count": 27,
   "metadata": {},
   "outputs": [
    {
     "ename": "ValueError",
     "evalue": "[E1014] Error loading DocBin data. It doesn't look like the data is in DocBin (.spacy) format. If your data is in spaCy v2's JSON training format, convert it using `python -m spacy convert file.json .`.",
     "output_type": "error",
     "traceback": [
      "\u001b[1;31m---------------------------------------------------------------------------\u001b[0m",
      "\u001b[1;31merror\u001b[0m                                     Traceback (most recent call last)",
      "File \u001b[1;32mc:\\Users\\charl\\miniconda3\\envs\\travelorder\\Lib\\site-packages\\spacy\\tokens\\_serialize.py:228\u001b[0m, in \u001b[0;36mDocBin.from_bytes\u001b[1;34m(self, bytes_data)\u001b[0m\n\u001b[0;32m    227\u001b[0m \u001b[38;5;28;01mtry\u001b[39;00m:\n\u001b[1;32m--> 228\u001b[0m     msg \u001b[38;5;241m=\u001b[39m srsly\u001b[38;5;241m.\u001b[39mmsgpack_loads(zlib\u001b[38;5;241m.\u001b[39mdecompress(bytes_data))\n\u001b[0;32m    229\u001b[0m \u001b[38;5;28;01mexcept\u001b[39;00m zlib\u001b[38;5;241m.\u001b[39merror:\n",
      "\u001b[1;31merror\u001b[0m: Error -3 while decompressing data: incorrect header check",
      "\nDuring handling of the above exception, another exception occurred:\n",
      "\u001b[1;31mValueError\u001b[0m                                Traceback (most recent call last)",
      "Cell \u001b[1;32mIn[27], line 4\u001b[0m\n\u001b[0;32m      1\u001b[0m \u001b[38;5;28;01mfrom\u001b[39;00m\u001b[38;5;250m \u001b[39m\u001b[38;5;21;01mspacy\u001b[39;00m\u001b[38;5;21;01m.\u001b[39;00m\u001b[38;5;21;01mtraining\u001b[39;00m\u001b[38;5;250m \u001b[39m\u001b[38;5;28;01mimport\u001b[39;00m Example\n\u001b[0;32m      2\u001b[0m \u001b[38;5;28;01mfrom\u001b[39;00m\u001b[38;5;250m \u001b[39m\u001b[38;5;21;01mspacy\u001b[39;00m\u001b[38;5;21;01m.\u001b[39;00m\u001b[38;5;21;01mtokens\u001b[39;00m\u001b[38;5;250m \u001b[39m\u001b[38;5;28;01mimport\u001b[39;00m DocBin\n\u001b[1;32m----> 4\u001b[0m doc_bin \u001b[38;5;241m=\u001b[39m \u001b[43mDocBin\u001b[49m\u001b[43m(\u001b[49m\u001b[43m)\u001b[49m\u001b[38;5;241;43m.\u001b[39;49m\u001b[43mfrom_disk\u001b[49m\u001b[43m(\u001b[49m\u001b[38;5;124;43m\"\u001b[39;49m\u001b[38;5;124;43mdata/eval_data.spacy\u001b[39;49m\u001b[38;5;124;43m\"\u001b[39;49m\u001b[43m)\u001b[49m\n\u001b[0;32m      5\u001b[0m examples \u001b[38;5;241m=\u001b[39m []\n\u001b[0;32m      6\u001b[0m \u001b[38;5;28;01mfor\u001b[39;00m doc \u001b[38;5;129;01min\u001b[39;00m doc_bin\u001b[38;5;241m.\u001b[39mget_docs(nlp\u001b[38;5;241m.\u001b[39mvocab):\n",
      "File \u001b[1;32mc:\\Users\\charl\\miniconda3\\envs\\travelorder\\Lib\\site-packages\\spacy\\tokens\\_serialize.py:276\u001b[0m, in \u001b[0;36mDocBin.from_disk\u001b[1;34m(self, path)\u001b[0m\n\u001b[0;32m    274\u001b[0m path \u001b[38;5;241m=\u001b[39m ensure_path(path)\n\u001b[0;32m    275\u001b[0m \u001b[38;5;28;01mwith\u001b[39;00m path\u001b[38;5;241m.\u001b[39mopen(\u001b[38;5;124m\"\u001b[39m\u001b[38;5;124mrb\u001b[39m\u001b[38;5;124m\"\u001b[39m) \u001b[38;5;28;01mas\u001b[39;00m file_:\n\u001b[1;32m--> 276\u001b[0m     \u001b[38;5;28;43mself\u001b[39;49m\u001b[38;5;241;43m.\u001b[39;49m\u001b[43mfrom_bytes\u001b[49m\u001b[43m(\u001b[49m\u001b[43mfile_\u001b[49m\u001b[38;5;241;43m.\u001b[39;49m\u001b[43mread\u001b[49m\u001b[43m(\u001b[49m\u001b[43m)\u001b[49m\u001b[43m)\u001b[49m\n\u001b[0;32m    277\u001b[0m \u001b[38;5;28;01mreturn\u001b[39;00m \u001b[38;5;28mself\u001b[39m\n",
      "File \u001b[1;32mc:\\Users\\charl\\miniconda3\\envs\\travelorder\\Lib\\site-packages\\spacy\\tokens\\_serialize.py:230\u001b[0m, in \u001b[0;36mDocBin.from_bytes\u001b[1;34m(self, bytes_data)\u001b[0m\n\u001b[0;32m    228\u001b[0m     msg \u001b[38;5;241m=\u001b[39m srsly\u001b[38;5;241m.\u001b[39mmsgpack_loads(zlib\u001b[38;5;241m.\u001b[39mdecompress(bytes_data))\n\u001b[0;32m    229\u001b[0m \u001b[38;5;28;01mexcept\u001b[39;00m zlib\u001b[38;5;241m.\u001b[39merror:\n\u001b[1;32m--> 230\u001b[0m     \u001b[38;5;28;01mraise\u001b[39;00m \u001b[38;5;167;01mValueError\u001b[39;00m(Errors\u001b[38;5;241m.\u001b[39mE1014)\n\u001b[0;32m    231\u001b[0m \u001b[38;5;28mself\u001b[39m\u001b[38;5;241m.\u001b[39mattrs \u001b[38;5;241m=\u001b[39m msg[\u001b[38;5;124m\"\u001b[39m\u001b[38;5;124mattrs\u001b[39m\u001b[38;5;124m\"\u001b[39m]\n\u001b[0;32m    232\u001b[0m \u001b[38;5;28mself\u001b[39m\u001b[38;5;241m.\u001b[39mstrings \u001b[38;5;241m=\u001b[39m \u001b[38;5;28mset\u001b[39m(msg[\u001b[38;5;124m\"\u001b[39m\u001b[38;5;124mstrings\u001b[39m\u001b[38;5;124m\"\u001b[39m])\n",
      "\u001b[1;31mValueError\u001b[0m: [E1014] Error loading DocBin data. It doesn't look like the data is in DocBin (.spacy) format. If your data is in spaCy v2's JSON training format, convert it using `python -m spacy convert file.json .`."
     ]
    }
   ],
   "source": [
    "from spacy.training import Example\n",
    "from spacy.tokens import DocBin\n",
    "\n",
    "doc_bin = DocBin().from_disk(\"data/eval_data.spacy\")\n",
    "examples = []\n",
    "for doc in doc_bin.get_docs(nlp.vocab):\n",
    "    predicted_doc = nlp(doc.text)\n",
    "    example = Example.from_dict(predicted_doc, {\"entities\": [(ent.start_char, ent.end_char, ent.label_) for ent in doc.ents]})\n",
    "    examples.append(example)\n",
    "\n",
    "scorer = Scorer()\n",
    "scores = scorer.score(examples)\n",
    "\n",
    "print(\"Precision:\", scores[\"ents_p\"])\n",
    "print(\"Recall:\", scores[\"ents_r\"])\n",
    "print(\"F1 Score:\", scores[\"ents_f\"])"
   ]
  }
 ],
 "metadata": {
  "kernelspec": {
   "display_name": "travelorder",
   "language": "python",
   "name": "python3"
  },
  "language_info": {
   "codemirror_mode": {
    "name": "ipython",
    "version": 3
   },
   "file_extension": ".py",
   "mimetype": "text/x-python",
   "name": "python",
   "nbconvert_exporter": "python",
   "pygments_lexer": "ipython3",
   "version": "3.11.11"
  }
 },
 "nbformat": 4,
 "nbformat_minor": 2
}
