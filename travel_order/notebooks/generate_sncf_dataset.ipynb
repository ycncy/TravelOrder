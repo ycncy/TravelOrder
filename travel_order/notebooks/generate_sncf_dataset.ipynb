{
 "cells": [
  {
   "cell_type": "markdown",
   "source": [
    "# Import des datasets SNCF pour TER & TGV"
   ],
   "metadata": {
    "collapsed": false
   },
   "id": "91e1b45c6ad04d35"
  },
  {
   "cell_type": "code",
   "execution_count": 1,
   "id": "initial_id",
   "metadata": {
    "collapsed": true,
    "ExecuteTime": {
     "end_time": "2024-10-24T12:42:55.510639Z",
     "start_time": "2024-10-24T12:42:51.493491Z"
    }
   },
   "outputs": [],
   "source": [
    "import pandas as pd\n",
    "\n",
    "stops_ter = pd.read_csv('../data/input/ter_sncf/stops.csv')\n",
    "trips_ter = pd.read_csv('../data/input/ter_sncf/trips.csv')\n",
    "stop_times_ter = pd.read_csv('../data/input/ter_sncf/stop_times.csv')\n",
    "routes_ter = pd.read_csv('../data/input/ter_sncf/routes.csv')\n",
    "calendar_dates_ter = pd.read_csv('../data/input/ter_sncf/calendar_dates.csv')\n",
    "\n",
    "stops_tgv = pd.read_csv('../data/input/tgv_sncf/stops.txt')\n",
    "trips_tgv = pd.read_csv('../data/input/tgv_sncf/trips.txt')\n",
    "stop_times_tgv = pd.read_csv('../data/input/tgv_sncf/stop_times.txt')\n",
    "routes_tgv = pd.read_csv('../data/input/tgv_sncf/routes.txt')\n",
    "calendar_dates_tgv = pd.read_csv('../data/input/tgv_sncf/calendar_dates.txt')"
   ]
  },
  {
   "cell_type": "markdown",
   "source": [
    "# Calcul des temps de trajets en fonction des horaires et des trajets enregistrés"
   ],
   "metadata": {
    "collapsed": false
   },
   "id": "5f0605c8fb15f57c"
  },
  {
   "cell_type": "code",
   "outputs": [],
   "source": [
    "stops_filtered_ter = stops_ter[['stop_id', 'stop_name', 'stop_lat', 'stop_lon']]\n",
    "stops_filtered_tgv = stops_tgv[['stop_id', 'stop_name', 'stop_lat', 'stop_lon']]"
   ],
   "metadata": {
    "collapsed": false,
    "ExecuteTime": {
     "end_time": "2024-10-24T12:42:55.541629Z",
     "start_time": "2024-10-24T12:42:55.513897Z"
    }
   },
   "id": "fa79888b63b7f1c",
   "execution_count": 2
  },
  {
   "cell_type": "markdown",
   "source": [
    "### Trajets TER"
   ],
   "metadata": {
    "collapsed": false
   },
   "id": "1a2000fa25c0dac7"
  },
  {
   "cell_type": "code",
   "outputs": [
    {
     "data": {
      "text/plain": "                                         trip_id    arrival_time  \\\n0       OCESN105330F3164015:2024-10-11T00:34:04Z 0 days 07:28:00   \n1       OCESN105330F3164015:2024-10-11T00:34:04Z 0 days 07:33:00   \n2       OCESN105330F3164119:2024-10-11T00:34:04Z 0 days 07:28:00   \n3       OCESN105330F3164119:2024-10-11T00:34:04Z 0 days 07:33:00   \n4       OCESN105342F3519685:2024-10-13T00:47:17Z 0 days 17:23:00   \n...                                          ...             ...   \n575005   OCESN96767F3502841:2024-10-02T00:44:21Z 0 days 22:33:00   \n575006   OCESN98129R3420319:2024-10-12T00:35:06Z 0 days 20:50:00   \n575007   OCESN98129R3420319:2024-10-12T00:35:06Z 0 days 21:15:00   \n575008   OCESN98129R3420319:2024-10-12T00:35:06Z 0 days 21:51:00   \n575009   OCESN98129R3420319:2024-10-12T00:35:06Z 0 days 22:26:00   \n\n        departure_time                          stop_id  stop_sequence  \\\n0      0 days 07:28:00    StopPoint:OCENavette-87571240              0   \n1      0 days 07:33:00    StopPoint:OCENavette-87571000              1   \n2      0 days 07:28:00    StopPoint:OCENavette-87571240              0   \n3      0 days 07:33:00    StopPoint:OCENavette-87571000              1   \n4      0 days 17:23:00    StopPoint:OCENavette-87571240              0   \n...                ...                              ...            ...   \n575005 0 days 22:33:00  StopPoint:OCETrain TER-85010082              7   \n575006 0 days 20:50:00    StopPoint:OCECar TER-87715136              0   \n575007 0 days 21:15:00    StopPoint:OCECar TER-87715003              1   \n575008 0 days 21:51:00    StopPoint:OCECar TER-85042150              2   \n575009 0 days 22:26:00    StopPoint:OCECar TER-85042218              3   \n\n        stop_headsign  pickup_type  drop_off_type  shape_dist_traveled  \\\n0                 NaN            0              1                  NaN   \n1                 NaN            1              0                  NaN   \n2                 NaN            0              1                  NaN   \n3                 NaN            1              0                  NaN   \n4                 NaN            0              1                  NaN   \n...               ...          ...            ...                  ...   \n575005            NaN            1              0                  NaN   \n575006            NaN            0              1                  NaN   \n575007            NaN            0              0                  NaN   \n575008            NaN            0              0                  NaN   \n575009            NaN            1              0                  NaN   \n\n                                              route_id  service_id  \\\n0       FR:Line::85d3579c-996b-4671-89af-839855ede78a:           1   \n1       FR:Line::85d3579c-996b-4671-89af-839855ede78a:           1   \n2       FR:Line::85d3579c-996b-4671-89af-839855ede78a:           2   \n3       FR:Line::85d3579c-996b-4671-89af-839855ede78a:           2   \n4       FR:Line::85d3579c-996b-4671-89af-839855ede78a:           3   \n...                                                ...         ...   \n575005  FR:Line::C5996E08-5B80-4EA7-8BD5-268DCBA77858:          18   \n575006  FR:Line::984d7034-ec86-434a-a5ea-cd737cc2a692:        3283   \n575007  FR:Line::984d7034-ec86-434a-a5ea-cd737cc2a692:        3283   \n575008  FR:Line::984d7034-ec86-434a-a5ea-cd737cc2a692:        3283   \n575009  FR:Line::984d7034-ec86-434a-a5ea-cd737cc2a692:        3283   \n\n        trip_headsign  direction_id  block_id  shape_id  \\\n0              105330           1.0         1       NaN   \n1              105330           1.0         1       NaN   \n2              105330           1.0         2       NaN   \n3              105330           1.0         2       NaN   \n4              105342           1.0         3       NaN   \n...               ...           ...       ...       ...   \n575005          96767           0.0     62084       NaN   \n575006          98129           0.0     62085       NaN   \n575007          98129           0.0     62085       NaN   \n575008          98129           0.0     62085       NaN   \n575009          98129           0.0     62085       NaN   \n\n                         next_stop_id next_departure_time  travel_time  \n0       StopPoint:OCENavette-87571000     0 days 07:33:00          5.0  \n1                                 NaN                 NaT          NaN  \n2       StopPoint:OCENavette-87571000     0 days 07:33:00          5.0  \n3                                 NaN                 NaT          NaN  \n4       StopPoint:OCENavette-87571000     0 days 17:28:00          5.0  \n...                               ...                 ...          ...  \n575005                            NaN                 NaT          NaN  \n575006  StopPoint:OCECar TER-87715003     0 days 21:15:00         25.0  \n575007  StopPoint:OCECar TER-85042150     0 days 21:51:00         36.0  \n575008  StopPoint:OCECar TER-85042218     0 days 22:26:00         35.0  \n575009                            NaN                 NaT          NaN  \n\n[575010 rows x 18 columns]",
      "text/html": "<div>\n<style scoped>\n    .dataframe tbody tr th:only-of-type {\n        vertical-align: middle;\n    }\n\n    .dataframe tbody tr th {\n        vertical-align: top;\n    }\n\n    .dataframe thead th {\n        text-align: right;\n    }\n</style>\n<table border=\"1\" class=\"dataframe\">\n  <thead>\n    <tr style=\"text-align: right;\">\n      <th></th>\n      <th>trip_id</th>\n      <th>arrival_time</th>\n      <th>departure_time</th>\n      <th>stop_id</th>\n      <th>stop_sequence</th>\n      <th>stop_headsign</th>\n      <th>pickup_type</th>\n      <th>drop_off_type</th>\n      <th>shape_dist_traveled</th>\n      <th>route_id</th>\n      <th>service_id</th>\n      <th>trip_headsign</th>\n      <th>direction_id</th>\n      <th>block_id</th>\n      <th>shape_id</th>\n      <th>next_stop_id</th>\n      <th>next_departure_time</th>\n      <th>travel_time</th>\n    </tr>\n  </thead>\n  <tbody>\n    <tr>\n      <th>0</th>\n      <td>OCESN105330F3164015:2024-10-11T00:34:04Z</td>\n      <td>0 days 07:28:00</td>\n      <td>0 days 07:28:00</td>\n      <td>StopPoint:OCENavette-87571240</td>\n      <td>0</td>\n      <td>NaN</td>\n      <td>0</td>\n      <td>1</td>\n      <td>NaN</td>\n      <td>FR:Line::85d3579c-996b-4671-89af-839855ede78a:</td>\n      <td>1</td>\n      <td>105330</td>\n      <td>1.0</td>\n      <td>1</td>\n      <td>NaN</td>\n      <td>StopPoint:OCENavette-87571000</td>\n      <td>0 days 07:33:00</td>\n      <td>5.0</td>\n    </tr>\n    <tr>\n      <th>1</th>\n      <td>OCESN105330F3164015:2024-10-11T00:34:04Z</td>\n      <td>0 days 07:33:00</td>\n      <td>0 days 07:33:00</td>\n      <td>StopPoint:OCENavette-87571000</td>\n      <td>1</td>\n      <td>NaN</td>\n      <td>1</td>\n      <td>0</td>\n      <td>NaN</td>\n      <td>FR:Line::85d3579c-996b-4671-89af-839855ede78a:</td>\n      <td>1</td>\n      <td>105330</td>\n      <td>1.0</td>\n      <td>1</td>\n      <td>NaN</td>\n      <td>NaN</td>\n      <td>NaT</td>\n      <td>NaN</td>\n    </tr>\n    <tr>\n      <th>2</th>\n      <td>OCESN105330F3164119:2024-10-11T00:34:04Z</td>\n      <td>0 days 07:28:00</td>\n      <td>0 days 07:28:00</td>\n      <td>StopPoint:OCENavette-87571240</td>\n      <td>0</td>\n      <td>NaN</td>\n      <td>0</td>\n      <td>1</td>\n      <td>NaN</td>\n      <td>FR:Line::85d3579c-996b-4671-89af-839855ede78a:</td>\n      <td>2</td>\n      <td>105330</td>\n      <td>1.0</td>\n      <td>2</td>\n      <td>NaN</td>\n      <td>StopPoint:OCENavette-87571000</td>\n      <td>0 days 07:33:00</td>\n      <td>5.0</td>\n    </tr>\n    <tr>\n      <th>3</th>\n      <td>OCESN105330F3164119:2024-10-11T00:34:04Z</td>\n      <td>0 days 07:33:00</td>\n      <td>0 days 07:33:00</td>\n      <td>StopPoint:OCENavette-87571000</td>\n      <td>1</td>\n      <td>NaN</td>\n      <td>1</td>\n      <td>0</td>\n      <td>NaN</td>\n      <td>FR:Line::85d3579c-996b-4671-89af-839855ede78a:</td>\n      <td>2</td>\n      <td>105330</td>\n      <td>1.0</td>\n      <td>2</td>\n      <td>NaN</td>\n      <td>NaN</td>\n      <td>NaT</td>\n      <td>NaN</td>\n    </tr>\n    <tr>\n      <th>4</th>\n      <td>OCESN105342F3519685:2024-10-13T00:47:17Z</td>\n      <td>0 days 17:23:00</td>\n      <td>0 days 17:23:00</td>\n      <td>StopPoint:OCENavette-87571240</td>\n      <td>0</td>\n      <td>NaN</td>\n      <td>0</td>\n      <td>1</td>\n      <td>NaN</td>\n      <td>FR:Line::85d3579c-996b-4671-89af-839855ede78a:</td>\n      <td>3</td>\n      <td>105342</td>\n      <td>1.0</td>\n      <td>3</td>\n      <td>NaN</td>\n      <td>StopPoint:OCENavette-87571000</td>\n      <td>0 days 17:28:00</td>\n      <td>5.0</td>\n    </tr>\n    <tr>\n      <th>...</th>\n      <td>...</td>\n      <td>...</td>\n      <td>...</td>\n      <td>...</td>\n      <td>...</td>\n      <td>...</td>\n      <td>...</td>\n      <td>...</td>\n      <td>...</td>\n      <td>...</td>\n      <td>...</td>\n      <td>...</td>\n      <td>...</td>\n      <td>...</td>\n      <td>...</td>\n      <td>...</td>\n      <td>...</td>\n      <td>...</td>\n    </tr>\n    <tr>\n      <th>575005</th>\n      <td>OCESN96767F3502841:2024-10-02T00:44:21Z</td>\n      <td>0 days 22:33:00</td>\n      <td>0 days 22:33:00</td>\n      <td>StopPoint:OCETrain TER-85010082</td>\n      <td>7</td>\n      <td>NaN</td>\n      <td>1</td>\n      <td>0</td>\n      <td>NaN</td>\n      <td>FR:Line::C5996E08-5B80-4EA7-8BD5-268DCBA77858:</td>\n      <td>18</td>\n      <td>96767</td>\n      <td>0.0</td>\n      <td>62084</td>\n      <td>NaN</td>\n      <td>NaN</td>\n      <td>NaT</td>\n      <td>NaN</td>\n    </tr>\n    <tr>\n      <th>575006</th>\n      <td>OCESN98129R3420319:2024-10-12T00:35:06Z</td>\n      <td>0 days 20:50:00</td>\n      <td>0 days 20:50:00</td>\n      <td>StopPoint:OCECar TER-87715136</td>\n      <td>0</td>\n      <td>NaN</td>\n      <td>0</td>\n      <td>1</td>\n      <td>NaN</td>\n      <td>FR:Line::984d7034-ec86-434a-a5ea-cd737cc2a692:</td>\n      <td>3283</td>\n      <td>98129</td>\n      <td>0.0</td>\n      <td>62085</td>\n      <td>NaN</td>\n      <td>StopPoint:OCECar TER-87715003</td>\n      <td>0 days 21:15:00</td>\n      <td>25.0</td>\n    </tr>\n    <tr>\n      <th>575007</th>\n      <td>OCESN98129R3420319:2024-10-12T00:35:06Z</td>\n      <td>0 days 21:15:00</td>\n      <td>0 days 21:15:00</td>\n      <td>StopPoint:OCECar TER-87715003</td>\n      <td>1</td>\n      <td>NaN</td>\n      <td>0</td>\n      <td>0</td>\n      <td>NaN</td>\n      <td>FR:Line::984d7034-ec86-434a-a5ea-cd737cc2a692:</td>\n      <td>3283</td>\n      <td>98129</td>\n      <td>0.0</td>\n      <td>62085</td>\n      <td>NaN</td>\n      <td>StopPoint:OCECar TER-85042150</td>\n      <td>0 days 21:51:00</td>\n      <td>36.0</td>\n    </tr>\n    <tr>\n      <th>575008</th>\n      <td>OCESN98129R3420319:2024-10-12T00:35:06Z</td>\n      <td>0 days 21:51:00</td>\n      <td>0 days 21:51:00</td>\n      <td>StopPoint:OCECar TER-85042150</td>\n      <td>2</td>\n      <td>NaN</td>\n      <td>0</td>\n      <td>0</td>\n      <td>NaN</td>\n      <td>FR:Line::984d7034-ec86-434a-a5ea-cd737cc2a692:</td>\n      <td>3283</td>\n      <td>98129</td>\n      <td>0.0</td>\n      <td>62085</td>\n      <td>NaN</td>\n      <td>StopPoint:OCECar TER-85042218</td>\n      <td>0 days 22:26:00</td>\n      <td>35.0</td>\n    </tr>\n    <tr>\n      <th>575009</th>\n      <td>OCESN98129R3420319:2024-10-12T00:35:06Z</td>\n      <td>0 days 22:26:00</td>\n      <td>0 days 22:26:00</td>\n      <td>StopPoint:OCECar TER-85042218</td>\n      <td>3</td>\n      <td>NaN</td>\n      <td>1</td>\n      <td>0</td>\n      <td>NaN</td>\n      <td>FR:Line::984d7034-ec86-434a-a5ea-cd737cc2a692:</td>\n      <td>3283</td>\n      <td>98129</td>\n      <td>0.0</td>\n      <td>62085</td>\n      <td>NaN</td>\n      <td>NaN</td>\n      <td>NaT</td>\n      <td>NaN</td>\n    </tr>\n  </tbody>\n</table>\n<p>575010 rows × 18 columns</p>\n</div>"
     },
     "execution_count": 3,
     "metadata": {},
     "output_type": "execute_result"
    }
   ],
   "source": [
    "stop_times_trips_ter = pd.merge(stop_times_ter, trips_ter, on='trip_id')\n",
    "\n",
    "stop_times_trips_ter['departure_time'] = pd.to_timedelta(stop_times_trips_ter['departure_time'])\n",
    "stop_times_trips_ter['arrival_time'] = pd.to_timedelta(stop_times_trips_ter['arrival_time'])\n",
    "\n",
    "stop_times_trips_ter['next_stop_id'] = stop_times_trips_ter.groupby('trip_id')['stop_id'].shift(-1)\n",
    "stop_times_trips_ter['next_departure_time'] = stop_times_trips_ter.groupby('trip_id')['departure_time'].shift(-1)\n",
    "\n",
    "stop_times_trips_ter['travel_time'] = (stop_times_trips_ter['next_departure_time'] - stop_times_trips_ter['departure_time']).dt.total_seconds() / 60.0\n",
    "\n",
    "stop_times_trips_ter"
   ],
   "metadata": {
    "collapsed": false,
    "ExecuteTime": {
     "end_time": "2024-10-24T12:42:56.334360Z",
     "start_time": "2024-10-24T12:42:55.543746Z"
    }
   },
   "id": "669db01762969633",
   "execution_count": 3
  },
  {
   "cell_type": "markdown",
   "source": [
    "### Trajets TGV"
   ],
   "metadata": {
    "collapsed": false
   },
   "id": "cb60541a13a46b44"
  },
  {
   "cell_type": "code",
   "outputs": [
    {
     "data": {
      "text/plain": "                                       trip_id    arrival_time  \\\n0      OCESN12213F2859340:2024-09-25T00:19:05Z 0 days 19:04:00   \n1      OCESN12213F2859340:2024-09-25T00:19:05Z 0 days 21:14:00   \n2      OCESN12213F3090510:2024-10-08T00:31:46Z 0 days 19:04:00   \n3      OCESN12213F3090510:2024-10-08T00:31:46Z 0 days 21:14:00   \n4      OCESN12213F3090510:2024-10-08T00:31:46Z 0 days 22:23:00   \n...                                        ...             ...   \n26176   OCESN9898F3310613:2024-09-25T00:19:05Z 0 days 11:49:00   \n26177   OCESN9898F3310613:2024-09-25T00:19:05Z 0 days 12:24:00   \n26178   OCESN9898F3310613:2024-09-25T00:19:05Z 0 days 13:24:00   \n26179   OCESN9898F3310613:2024-09-25T00:19:05Z 0 days 13:48:00   \n26180   OCESN9898F3310613:2024-09-25T00:19:05Z 0 days 14:15:00   \n\n       departure_time                          stop_id  stop_sequence  \\\n0     0 days 19:04:00  StopPoint:OCETGV INOUI-87391003              0   \n1     0 days 21:14:00  StopPoint:OCETGV INOUI-87581009              1   \n2     0 days 19:04:00  StopPoint:OCETGV INOUI-87391003              0   \n3     0 days 21:20:00  StopPoint:OCETGV INOUI-87581009              1   \n4     0 days 22:26:00  StopPoint:OCETGV INOUI-87586008              2   \n...               ...                              ...            ...   \n26176 0 days 11:52:00  StopPoint:OCETGV INOUI-87182014              7   \n26177 0 days 12:31:00  StopPoint:OCETGV INOUI-87212027              8   \n26178 0 days 13:29:00  StopPoint:OCETGV INOUI-87192039              9   \n26179 0 days 13:51:00  StopPoint:OCETGV INOUI-87191007             10   \n26180 0 days 14:15:00  StopPoint:OCETGV INOUI-82001000             11   \n\n       stop_headsign  pickup_type  drop_off_type  shape_dist_traveled  \\\n0                NaN            0              1                  NaN   \n1                NaN            1              0                  NaN   \n2                NaN            0              1                  NaN   \n3                NaN            0              1                  NaN   \n4                NaN            0              0                  NaN   \n...              ...          ...            ...                  ...   \n26176            NaN            0              0                  NaN   \n26177            NaN            0              0                  NaN   \n26178            NaN            0              0                  NaN   \n26179            NaN            0              0                  NaN   \n26180            NaN            1              0                  NaN   \n\n                                             route_id  service_id  \\\n0      FR:Line::A74B127A-8882-4043-BAAA-F49A6703DE54:           1   \n1      FR:Line::A74B127A-8882-4043-BAAA-F49A6703DE54:           1   \n2      FR:Line::A74B127A-8882-4043-BAAA-F49A6703DE54:           2   \n3      FR:Line::A74B127A-8882-4043-BAAA-F49A6703DE54:           2   \n4      FR:Line::A74B127A-8882-4043-BAAA-F49A6703DE54:           2   \n...                                               ...         ...   \n26176  FR:Line::4FA25873-A63A-4A2D-B62F-EF950E45D8A9:          86   \n26177  FR:Line::4FA25873-A63A-4A2D-B62F-EF950E45D8A9:          86   \n26178  FR:Line::4FA25873-A63A-4A2D-B62F-EF950E45D8A9:          86   \n26179  FR:Line::4FA25873-A63A-4A2D-B62F-EF950E45D8A9:          86   \n26180  FR:Line::4FA25873-A63A-4A2D-B62F-EF950E45D8A9:          86   \n\n       trip_headsign  direction_id  block_id  shape_id  \\\n0              12213           1.0         1       NaN   \n1              12213           1.0         1       NaN   \n2              12213           1.0         2       NaN   \n3              12213           1.0         2       NaN   \n4              12213           1.0         2       NaN   \n...              ...           ...       ...       ...   \n26176           9898           NaN      4823       NaN   \n26177           9898           NaN      4823       NaN   \n26178           9898           NaN      4823       NaN   \n26179           9898           NaN      4823       NaN   \n26180           9898           NaN      4823       NaN   \n\n                          next_stop_id next_departure_time  travel_time  \n0      StopPoint:OCETGV INOUI-87581009     0 days 21:14:00        130.0  \n1                                  NaN                 NaT          NaN  \n2      StopPoint:OCETGV INOUI-87581009     0 days 21:20:00        136.0  \n3      StopPoint:OCETGV INOUI-87586008     0 days 22:26:00         66.0  \n4      StopPoint:OCETGV INOUI-87611244     0 days 23:09:00         43.0  \n...                                ...                 ...          ...  \n26176  StopPoint:OCETGV INOUI-87212027     0 days 12:31:00         39.0  \n26177  StopPoint:OCETGV INOUI-87192039     0 days 13:29:00         58.0  \n26178  StopPoint:OCETGV INOUI-87191007     0 days 13:51:00         22.0  \n26179  StopPoint:OCETGV INOUI-82001000     0 days 14:15:00         24.0  \n26180                              NaN                 NaT          NaN  \n\n[26181 rows x 18 columns]",
      "text/html": "<div>\n<style scoped>\n    .dataframe tbody tr th:only-of-type {\n        vertical-align: middle;\n    }\n\n    .dataframe tbody tr th {\n        vertical-align: top;\n    }\n\n    .dataframe thead th {\n        text-align: right;\n    }\n</style>\n<table border=\"1\" class=\"dataframe\">\n  <thead>\n    <tr style=\"text-align: right;\">\n      <th></th>\n      <th>trip_id</th>\n      <th>arrival_time</th>\n      <th>departure_time</th>\n      <th>stop_id</th>\n      <th>stop_sequence</th>\n      <th>stop_headsign</th>\n      <th>pickup_type</th>\n      <th>drop_off_type</th>\n      <th>shape_dist_traveled</th>\n      <th>route_id</th>\n      <th>service_id</th>\n      <th>trip_headsign</th>\n      <th>direction_id</th>\n      <th>block_id</th>\n      <th>shape_id</th>\n      <th>next_stop_id</th>\n      <th>next_departure_time</th>\n      <th>travel_time</th>\n    </tr>\n  </thead>\n  <tbody>\n    <tr>\n      <th>0</th>\n      <td>OCESN12213F2859340:2024-09-25T00:19:05Z</td>\n      <td>0 days 19:04:00</td>\n      <td>0 days 19:04:00</td>\n      <td>StopPoint:OCETGV INOUI-87391003</td>\n      <td>0</td>\n      <td>NaN</td>\n      <td>0</td>\n      <td>1</td>\n      <td>NaN</td>\n      <td>FR:Line::A74B127A-8882-4043-BAAA-F49A6703DE54:</td>\n      <td>1</td>\n      <td>12213</td>\n      <td>1.0</td>\n      <td>1</td>\n      <td>NaN</td>\n      <td>StopPoint:OCETGV INOUI-87581009</td>\n      <td>0 days 21:14:00</td>\n      <td>130.0</td>\n    </tr>\n    <tr>\n      <th>1</th>\n      <td>OCESN12213F2859340:2024-09-25T00:19:05Z</td>\n      <td>0 days 21:14:00</td>\n      <td>0 days 21:14:00</td>\n      <td>StopPoint:OCETGV INOUI-87581009</td>\n      <td>1</td>\n      <td>NaN</td>\n      <td>1</td>\n      <td>0</td>\n      <td>NaN</td>\n      <td>FR:Line::A74B127A-8882-4043-BAAA-F49A6703DE54:</td>\n      <td>1</td>\n      <td>12213</td>\n      <td>1.0</td>\n      <td>1</td>\n      <td>NaN</td>\n      <td>NaN</td>\n      <td>NaT</td>\n      <td>NaN</td>\n    </tr>\n    <tr>\n      <th>2</th>\n      <td>OCESN12213F3090510:2024-10-08T00:31:46Z</td>\n      <td>0 days 19:04:00</td>\n      <td>0 days 19:04:00</td>\n      <td>StopPoint:OCETGV INOUI-87391003</td>\n      <td>0</td>\n      <td>NaN</td>\n      <td>0</td>\n      <td>1</td>\n      <td>NaN</td>\n      <td>FR:Line::A74B127A-8882-4043-BAAA-F49A6703DE54:</td>\n      <td>2</td>\n      <td>12213</td>\n      <td>1.0</td>\n      <td>2</td>\n      <td>NaN</td>\n      <td>StopPoint:OCETGV INOUI-87581009</td>\n      <td>0 days 21:20:00</td>\n      <td>136.0</td>\n    </tr>\n    <tr>\n      <th>3</th>\n      <td>OCESN12213F3090510:2024-10-08T00:31:46Z</td>\n      <td>0 days 21:14:00</td>\n      <td>0 days 21:20:00</td>\n      <td>StopPoint:OCETGV INOUI-87581009</td>\n      <td>1</td>\n      <td>NaN</td>\n      <td>0</td>\n      <td>1</td>\n      <td>NaN</td>\n      <td>FR:Line::A74B127A-8882-4043-BAAA-F49A6703DE54:</td>\n      <td>2</td>\n      <td>12213</td>\n      <td>1.0</td>\n      <td>2</td>\n      <td>NaN</td>\n      <td>StopPoint:OCETGV INOUI-87586008</td>\n      <td>0 days 22:26:00</td>\n      <td>66.0</td>\n    </tr>\n    <tr>\n      <th>4</th>\n      <td>OCESN12213F3090510:2024-10-08T00:31:46Z</td>\n      <td>0 days 22:23:00</td>\n      <td>0 days 22:26:00</td>\n      <td>StopPoint:OCETGV INOUI-87586008</td>\n      <td>2</td>\n      <td>NaN</td>\n      <td>0</td>\n      <td>0</td>\n      <td>NaN</td>\n      <td>FR:Line::A74B127A-8882-4043-BAAA-F49A6703DE54:</td>\n      <td>2</td>\n      <td>12213</td>\n      <td>1.0</td>\n      <td>2</td>\n      <td>NaN</td>\n      <td>StopPoint:OCETGV INOUI-87611244</td>\n      <td>0 days 23:09:00</td>\n      <td>43.0</td>\n    </tr>\n    <tr>\n      <th>...</th>\n      <td>...</td>\n      <td>...</td>\n      <td>...</td>\n      <td>...</td>\n      <td>...</td>\n      <td>...</td>\n      <td>...</td>\n      <td>...</td>\n      <td>...</td>\n      <td>...</td>\n      <td>...</td>\n      <td>...</td>\n      <td>...</td>\n      <td>...</td>\n      <td>...</td>\n      <td>...</td>\n      <td>...</td>\n      <td>...</td>\n    </tr>\n    <tr>\n      <th>26176</th>\n      <td>OCESN9898F3310613:2024-09-25T00:19:05Z</td>\n      <td>0 days 11:49:00</td>\n      <td>0 days 11:52:00</td>\n      <td>StopPoint:OCETGV INOUI-87182014</td>\n      <td>7</td>\n      <td>NaN</td>\n      <td>0</td>\n      <td>0</td>\n      <td>NaN</td>\n      <td>FR:Line::4FA25873-A63A-4A2D-B62F-EF950E45D8A9:</td>\n      <td>86</td>\n      <td>9898</td>\n      <td>NaN</td>\n      <td>4823</td>\n      <td>NaN</td>\n      <td>StopPoint:OCETGV INOUI-87212027</td>\n      <td>0 days 12:31:00</td>\n      <td>39.0</td>\n    </tr>\n    <tr>\n      <th>26177</th>\n      <td>OCESN9898F3310613:2024-09-25T00:19:05Z</td>\n      <td>0 days 12:24:00</td>\n      <td>0 days 12:31:00</td>\n      <td>StopPoint:OCETGV INOUI-87212027</td>\n      <td>8</td>\n      <td>NaN</td>\n      <td>0</td>\n      <td>0</td>\n      <td>NaN</td>\n      <td>FR:Line::4FA25873-A63A-4A2D-B62F-EF950E45D8A9:</td>\n      <td>86</td>\n      <td>9898</td>\n      <td>NaN</td>\n      <td>4823</td>\n      <td>NaN</td>\n      <td>StopPoint:OCETGV INOUI-87192039</td>\n      <td>0 days 13:29:00</td>\n      <td>58.0</td>\n    </tr>\n    <tr>\n      <th>26178</th>\n      <td>OCESN9898F3310613:2024-09-25T00:19:05Z</td>\n      <td>0 days 13:24:00</td>\n      <td>0 days 13:29:00</td>\n      <td>StopPoint:OCETGV INOUI-87192039</td>\n      <td>9</td>\n      <td>NaN</td>\n      <td>0</td>\n      <td>0</td>\n      <td>NaN</td>\n      <td>FR:Line::4FA25873-A63A-4A2D-B62F-EF950E45D8A9:</td>\n      <td>86</td>\n      <td>9898</td>\n      <td>NaN</td>\n      <td>4823</td>\n      <td>NaN</td>\n      <td>StopPoint:OCETGV INOUI-87191007</td>\n      <td>0 days 13:51:00</td>\n      <td>22.0</td>\n    </tr>\n    <tr>\n      <th>26179</th>\n      <td>OCESN9898F3310613:2024-09-25T00:19:05Z</td>\n      <td>0 days 13:48:00</td>\n      <td>0 days 13:51:00</td>\n      <td>StopPoint:OCETGV INOUI-87191007</td>\n      <td>10</td>\n      <td>NaN</td>\n      <td>0</td>\n      <td>0</td>\n      <td>NaN</td>\n      <td>FR:Line::4FA25873-A63A-4A2D-B62F-EF950E45D8A9:</td>\n      <td>86</td>\n      <td>9898</td>\n      <td>NaN</td>\n      <td>4823</td>\n      <td>NaN</td>\n      <td>StopPoint:OCETGV INOUI-82001000</td>\n      <td>0 days 14:15:00</td>\n      <td>24.0</td>\n    </tr>\n    <tr>\n      <th>26180</th>\n      <td>OCESN9898F3310613:2024-09-25T00:19:05Z</td>\n      <td>0 days 14:15:00</td>\n      <td>0 days 14:15:00</td>\n      <td>StopPoint:OCETGV INOUI-82001000</td>\n      <td>11</td>\n      <td>NaN</td>\n      <td>1</td>\n      <td>0</td>\n      <td>NaN</td>\n      <td>FR:Line::4FA25873-A63A-4A2D-B62F-EF950E45D8A9:</td>\n      <td>86</td>\n      <td>9898</td>\n      <td>NaN</td>\n      <td>4823</td>\n      <td>NaN</td>\n      <td>NaN</td>\n      <td>NaT</td>\n      <td>NaN</td>\n    </tr>\n  </tbody>\n</table>\n<p>26181 rows × 18 columns</p>\n</div>"
     },
     "execution_count": 4,
     "metadata": {},
     "output_type": "execute_result"
    }
   ],
   "source": [
    "stop_times_trips_tgv = pd.merge(stop_times_tgv, trips_tgv, on='trip_id')\n",
    "\n",
    "stop_times_trips_tgv['departure_time'] = pd.to_timedelta(stop_times_trips_tgv['departure_time'])\n",
    "stop_times_trips_tgv['arrival_time'] = pd.to_timedelta(stop_times_trips_tgv['arrival_time'])\n",
    "\n",
    "stop_times_trips_tgv['next_stop_id'] = stop_times_trips_tgv.groupby('trip_id')['stop_id'].shift(-1)\n",
    "stop_times_trips_tgv['next_departure_time'] = stop_times_trips_tgv.groupby('trip_id')['departure_time'].shift(-1)\n",
    "\n",
    "stop_times_trips_tgv['travel_time'] = (stop_times_trips_tgv['next_departure_time'] - stop_times_trips_tgv['departure_time']).dt.total_seconds() / 60.0\n",
    "\n",
    "stop_times_trips_tgv"
   ],
   "metadata": {
    "collapsed": false,
    "ExecuteTime": {
     "end_time": "2024-10-24T12:42:56.425632Z",
     "start_time": "2024-10-24T12:42:56.336501Z"
    }
   },
   "id": "b20ce2d187a440ab",
   "execution_count": 4
  },
  {
   "cell_type": "markdown",
   "source": [
    "# Formatage des datasets et extraction du nom de la ville & positions GPS "
   ],
   "metadata": {
    "collapsed": false
   },
   "id": "1746ed5c8379ea2f"
  },
  {
   "cell_type": "markdown",
   "source": [
    "### Trajets TER"
   ],
   "metadata": {
    "collapsed": false
   },
   "id": "cc656cc5a5c5b903"
  },
  {
   "cell_type": "code",
   "outputs": [
    {
     "data": {
      "text/plain": "                          stop_id_start                      stop_id_end  \\\n0         StopPoint:OCENavette-87571240    StopPoint:OCENavette-87571000   \n1         StopPoint:OCENavette-87571240    StopPoint:OCENavette-87571000   \n2         StopPoint:OCENavette-87571240    StopPoint:OCENavette-87571000   \n3         StopPoint:OCENavette-87571240    StopPoint:OCENavette-87571000   \n4         StopPoint:OCENavette-87571240    StopPoint:OCENavette-87571000   \n...                                 ...                              ...   \n512920  StopPoint:OCETrain TER-85010066  StopPoint:OCETrain TER-85010074   \n512921  StopPoint:OCETrain TER-85010074  StopPoint:OCETrain TER-85010082   \n512922    StopPoint:OCECar TER-87715136    StopPoint:OCECar TER-87715003   \n512923    StopPoint:OCECar TER-87715003    StopPoint:OCECar TER-85042150   \n512924    StopPoint:OCECar TER-85042150    StopPoint:OCECar TER-85042218   \n\n        travel_time                                   trip_id  \\\n0               5.0  OCESN105330F3164015:2024-10-11T00:34:04Z   \n1               5.0  OCESN105330F3164119:2024-10-11T00:34:04Z   \n2               5.0  OCESN105342F3519685:2024-10-13T00:47:17Z   \n3               5.0  OCESN105342F3519686:2024-10-11T00:34:04Z   \n4               5.0  OCESN105347F3164263:2024-10-11T00:34:04Z   \n...             ...                                       ...   \n512920          3.0   OCESN96767F3502841:2024-10-02T00:44:21Z   \n512921          5.0   OCESN96767F3502841:2024-10-02T00:44:21Z   \n512922         25.0   OCESN98129R3420319:2024-10-12T00:35:06Z   \n512923         36.0   OCESN98129R3420319:2024-10-12T00:35:06Z   \n512924         35.0   OCESN98129R3420319:2024-10-12T00:35:06Z   \n\n             departure_station  stop_lat_start  stop_lon_start  stop_lat_end  \\\n0       Saint-Pierre-des-Corps       47.386140        0.723539     47.389875   \n1       Saint-Pierre-des-Corps       47.386140        0.723539     47.389875   \n2       Saint-Pierre-des-Corps       47.386140        0.723539     47.389875   \n3       Saint-Pierre-des-Corps       47.386140        0.723539     47.389875   \n4       Saint-Pierre-des-Corps       47.386140        0.723539     47.389875   \n...                        ...             ...             ...           ...   \n512920                  Meyrin       46.222350        6.076900     46.220710   \n512921                 Vernier       46.220710        6.093892     46.210220   \n512922                  Frasne       46.857596        6.157767     46.900988   \n512923              Pontarlier       46.900988        6.353418     46.942410   \n512924                 Travers       46.942410        6.676570     46.996730   \n\n        stop_lon_end arrival_station trip_type          departure_city  \\\n0           0.692836           Tours       TER  Saint-Pierre-des-Corps   \n1           0.692836           Tours       TER  Saint-Pierre-des-Corps   \n2           0.692836           Tours       TER  Saint-Pierre-des-Corps   \n3           0.692836           Tours       TER  Saint-Pierre-des-Corps   \n4           0.692836           Tours       TER  Saint-Pierre-des-Corps   \n...              ...             ...       ...                     ...   \n512920      6.093892         Vernier       TER                  Meyrin   \n512921      6.142440          Geneve       TER                 Vernier   \n512922      6.353418      Pontarlier       TER                  Frasne   \n512923      6.676570         Travers       TER              Pontarlier   \n512924      6.935710       Neuchatel       TER                 Travers   \n\n       arrival_city  \n0             Tours  \n1             Tours  \n2             Tours  \n3             Tours  \n4             Tours  \n...             ...  \n512920      Vernier  \n512921       Geneve  \n512922   Pontarlier  \n512923      Travers  \n512924    Neuchatel  \n\n[512925 rows x 13 columns]",
      "text/html": "<div>\n<style scoped>\n    .dataframe tbody tr th:only-of-type {\n        vertical-align: middle;\n    }\n\n    .dataframe tbody tr th {\n        vertical-align: top;\n    }\n\n    .dataframe thead th {\n        text-align: right;\n    }\n</style>\n<table border=\"1\" class=\"dataframe\">\n  <thead>\n    <tr style=\"text-align: right;\">\n      <th></th>\n      <th>stop_id_start</th>\n      <th>stop_id_end</th>\n      <th>travel_time</th>\n      <th>trip_id</th>\n      <th>departure_station</th>\n      <th>stop_lat_start</th>\n      <th>stop_lon_start</th>\n      <th>stop_lat_end</th>\n      <th>stop_lon_end</th>\n      <th>arrival_station</th>\n      <th>trip_type</th>\n      <th>departure_city</th>\n      <th>arrival_city</th>\n    </tr>\n  </thead>\n  <tbody>\n    <tr>\n      <th>0</th>\n      <td>StopPoint:OCENavette-87571240</td>\n      <td>StopPoint:OCENavette-87571000</td>\n      <td>5.0</td>\n      <td>OCESN105330F3164015:2024-10-11T00:34:04Z</td>\n      <td>Saint-Pierre-des-Corps</td>\n      <td>47.386140</td>\n      <td>0.723539</td>\n      <td>47.389875</td>\n      <td>0.692836</td>\n      <td>Tours</td>\n      <td>TER</td>\n      <td>Saint-Pierre-des-Corps</td>\n      <td>Tours</td>\n    </tr>\n    <tr>\n      <th>1</th>\n      <td>StopPoint:OCENavette-87571240</td>\n      <td>StopPoint:OCENavette-87571000</td>\n      <td>5.0</td>\n      <td>OCESN105330F3164119:2024-10-11T00:34:04Z</td>\n      <td>Saint-Pierre-des-Corps</td>\n      <td>47.386140</td>\n      <td>0.723539</td>\n      <td>47.389875</td>\n      <td>0.692836</td>\n      <td>Tours</td>\n      <td>TER</td>\n      <td>Saint-Pierre-des-Corps</td>\n      <td>Tours</td>\n    </tr>\n    <tr>\n      <th>2</th>\n      <td>StopPoint:OCENavette-87571240</td>\n      <td>StopPoint:OCENavette-87571000</td>\n      <td>5.0</td>\n      <td>OCESN105342F3519685:2024-10-13T00:47:17Z</td>\n      <td>Saint-Pierre-des-Corps</td>\n      <td>47.386140</td>\n      <td>0.723539</td>\n      <td>47.389875</td>\n      <td>0.692836</td>\n      <td>Tours</td>\n      <td>TER</td>\n      <td>Saint-Pierre-des-Corps</td>\n      <td>Tours</td>\n    </tr>\n    <tr>\n      <th>3</th>\n      <td>StopPoint:OCENavette-87571240</td>\n      <td>StopPoint:OCENavette-87571000</td>\n      <td>5.0</td>\n      <td>OCESN105342F3519686:2024-10-11T00:34:04Z</td>\n      <td>Saint-Pierre-des-Corps</td>\n      <td>47.386140</td>\n      <td>0.723539</td>\n      <td>47.389875</td>\n      <td>0.692836</td>\n      <td>Tours</td>\n      <td>TER</td>\n      <td>Saint-Pierre-des-Corps</td>\n      <td>Tours</td>\n    </tr>\n    <tr>\n      <th>4</th>\n      <td>StopPoint:OCENavette-87571240</td>\n      <td>StopPoint:OCENavette-87571000</td>\n      <td>5.0</td>\n      <td>OCESN105347F3164263:2024-10-11T00:34:04Z</td>\n      <td>Saint-Pierre-des-Corps</td>\n      <td>47.386140</td>\n      <td>0.723539</td>\n      <td>47.389875</td>\n      <td>0.692836</td>\n      <td>Tours</td>\n      <td>TER</td>\n      <td>Saint-Pierre-des-Corps</td>\n      <td>Tours</td>\n    </tr>\n    <tr>\n      <th>...</th>\n      <td>...</td>\n      <td>...</td>\n      <td>...</td>\n      <td>...</td>\n      <td>...</td>\n      <td>...</td>\n      <td>...</td>\n      <td>...</td>\n      <td>...</td>\n      <td>...</td>\n      <td>...</td>\n      <td>...</td>\n      <td>...</td>\n    </tr>\n    <tr>\n      <th>512920</th>\n      <td>StopPoint:OCETrain TER-85010066</td>\n      <td>StopPoint:OCETrain TER-85010074</td>\n      <td>3.0</td>\n      <td>OCESN96767F3502841:2024-10-02T00:44:21Z</td>\n      <td>Meyrin</td>\n      <td>46.222350</td>\n      <td>6.076900</td>\n      <td>46.220710</td>\n      <td>6.093892</td>\n      <td>Vernier</td>\n      <td>TER</td>\n      <td>Meyrin</td>\n      <td>Vernier</td>\n    </tr>\n    <tr>\n      <th>512921</th>\n      <td>StopPoint:OCETrain TER-85010074</td>\n      <td>StopPoint:OCETrain TER-85010082</td>\n      <td>5.0</td>\n      <td>OCESN96767F3502841:2024-10-02T00:44:21Z</td>\n      <td>Vernier</td>\n      <td>46.220710</td>\n      <td>6.093892</td>\n      <td>46.210220</td>\n      <td>6.142440</td>\n      <td>Geneve</td>\n      <td>TER</td>\n      <td>Vernier</td>\n      <td>Geneve</td>\n    </tr>\n    <tr>\n      <th>512922</th>\n      <td>StopPoint:OCECar TER-87715136</td>\n      <td>StopPoint:OCECar TER-87715003</td>\n      <td>25.0</td>\n      <td>OCESN98129R3420319:2024-10-12T00:35:06Z</td>\n      <td>Frasne</td>\n      <td>46.857596</td>\n      <td>6.157767</td>\n      <td>46.900988</td>\n      <td>6.353418</td>\n      <td>Pontarlier</td>\n      <td>TER</td>\n      <td>Frasne</td>\n      <td>Pontarlier</td>\n    </tr>\n    <tr>\n      <th>512923</th>\n      <td>StopPoint:OCECar TER-87715003</td>\n      <td>StopPoint:OCECar TER-85042150</td>\n      <td>36.0</td>\n      <td>OCESN98129R3420319:2024-10-12T00:35:06Z</td>\n      <td>Pontarlier</td>\n      <td>46.900988</td>\n      <td>6.353418</td>\n      <td>46.942410</td>\n      <td>6.676570</td>\n      <td>Travers</td>\n      <td>TER</td>\n      <td>Pontarlier</td>\n      <td>Travers</td>\n    </tr>\n    <tr>\n      <th>512924</th>\n      <td>StopPoint:OCECar TER-85042150</td>\n      <td>StopPoint:OCECar TER-85042218</td>\n      <td>35.0</td>\n      <td>OCESN98129R3420319:2024-10-12T00:35:06Z</td>\n      <td>Travers</td>\n      <td>46.942410</td>\n      <td>6.676570</td>\n      <td>46.996730</td>\n      <td>6.935710</td>\n      <td>Neuchatel</td>\n      <td>TER</td>\n      <td>Travers</td>\n      <td>Neuchatel</td>\n    </tr>\n  </tbody>\n</table>\n<p>512925 rows × 13 columns</p>\n</div>"
     },
     "execution_count": 5,
     "metadata": {},
     "output_type": "execute_result"
    }
   ],
   "source": [
    "connections_ter = stop_times_trips_ter[['stop_id', 'next_stop_id', 'travel_time', 'trip_id']].dropna()\n",
    "\n",
    "connections_ter = pd.merge(connections_ter, stops_filtered_ter, left_on='stop_id', right_on='stop_id')\n",
    "connections_ter = pd.merge(connections_ter, stops_filtered_ter[['stop_id', 'stop_name']], left_on='next_stop_id', right_on='stop_id', suffixes=('_start', '_end'))\n",
    "\n",
    "connections_ter = connections_ter.rename(columns={'stop_name_start': 'departure_station', 'stop_name_end': 'arrival_station'})\n",
    "\n",
    "connections_ter = connections_ter[connections_ter['travel_time'] > 0].drop_duplicates()\n",
    "\n",
    "connections_ter[\"trip_type\"] = \"TER\"\n",
    "\n",
    "connections_ter['departure_city'] = connections_ter[\"departure_station\"].apply(lambda x: x.split(\" \")[0] if x.split(\" \")[0] not in [\"La\", \"Le\", \"Les\"] else x)\n",
    "connections_ter['arrival_city'] = connections_ter['arrival_station'].apply(lambda x: x.split(\" \")[0] if x.split(\" \")[0] not in [\"La\", \"Le\"] else x)\n",
    "\n",
    "connections_ter = connections_ter.merge(stops_filtered_ter, how='left', left_on='stop_id_start', right_on='stop_id', suffixes=('', '_start'))\n",
    "\n",
    "connections_ter.rename(columns={'stop_lat': 'stop_lat_start', 'stop_lon': 'stop_lon_start'}, inplace=True)\n",
    "\n",
    "stops_df_ter_end = stops_filtered_ter.rename(columns={'stop_id': 'stop_id_end', 'stop_lat': 'stop_lat_end', 'stop_lon': 'stop_lon_end'})\n",
    "\n",
    "connections_ter = connections_ter.merge(stops_df_ter_end, how='left', on='stop_id_end', suffixes=('', '_end'))\n",
    "\n",
    "stops_df_ter_end = stops_filtered_ter.rename(columns={'stop_id_start': 'stop_id_end', 'stop_lat': 'stop_lat_end', 'stop_lon': 'stop_lon_end'})\n",
    "\n",
    "connections_ter = connections_ter[['stop_id_start', 'stop_id_end', 'travel_time', 'trip_id', 'departure_station',\n",
    "         'stop_lat_start', 'stop_lon_start', 'stop_lat_end', 'stop_lon_end',\n",
    "         'arrival_station', 'trip_type', 'departure_city', 'arrival_city']]\n",
    "\n",
    "connections_ter = connections_ter.loc[:,~connections_ter.columns.duplicated()].copy()\n",
    "\n",
    "connections_ter"
   ],
   "metadata": {
    "collapsed": false,
    "ExecuteTime": {
     "end_time": "2024-10-24T12:42:58.380574Z",
     "start_time": "2024-10-24T12:42:56.428917Z"
    }
   },
   "id": "28ee883bc114b79b",
   "execution_count": 5
  },
  {
   "cell_type": "markdown",
   "source": [
    "### Trajets TGV"
   ],
   "metadata": {
    "collapsed": false
   },
   "id": "17feb1afb4a24d5a"
  },
  {
   "cell_type": "code",
   "outputs": [
    {
     "data": {
      "text/plain": "Empty DataFrame\nColumns: [stop_id_start, stop_id_end, travel_time, trip_id, departure_station, stop_lat_start, stop_lon_start, stop_lat_end, stop_lon_end, arrival_station, trip_type, departure_city, arrival_city]\nIndex: []",
      "text/html": "<div>\n<style scoped>\n    .dataframe tbody tr th:only-of-type {\n        vertical-align: middle;\n    }\n\n    .dataframe tbody tr th {\n        vertical-align: top;\n    }\n\n    .dataframe thead th {\n        text-align: right;\n    }\n</style>\n<table border=\"1\" class=\"dataframe\">\n  <thead>\n    <tr style=\"text-align: right;\">\n      <th></th>\n      <th>stop_id_start</th>\n      <th>stop_id_end</th>\n      <th>travel_time</th>\n      <th>trip_id</th>\n      <th>departure_station</th>\n      <th>stop_lat_start</th>\n      <th>stop_lon_start</th>\n      <th>stop_lat_end</th>\n      <th>stop_lon_end</th>\n      <th>arrival_station</th>\n      <th>trip_type</th>\n      <th>departure_city</th>\n      <th>arrival_city</th>\n    </tr>\n  </thead>\n  <tbody>\n  </tbody>\n</table>\n</div>"
     },
     "execution_count": 57,
     "metadata": {},
     "output_type": "execute_result"
    }
   ],
   "source": [
    "connections_tgv = stop_times_trips_tgv[['stop_id', 'next_stop_id', 'travel_time', 'trip_id']].dropna()\n",
    "\n",
    "connections_tgv = pd.merge(connections_tgv, stops_filtered_tgv, left_on='stop_id', right_on='stop_id')\n",
    "connections_tgv = pd.merge(connections_tgv, stops_filtered_tgv[['stop_id', 'stop_name']], left_on='next_stop_id', right_on='stop_id', suffixes=('_start', '_end'))\n",
    "\n",
    "connections_tgv = connections_tgv.rename(columns={'stop_name_start': 'departure_station', 'stop_name_end': 'arrival_station'})\n",
    "\n",
    "connections_tgv = connections_tgv[connections_tgv['travel_time'] > 0].drop_duplicates()\n",
    "\n",
    "connections_tgv[\"trip_type\"] = \"TGV\"\n",
    "\n",
    "connections_tgv['departure_city'] = connections_tgv[\"departure_station\"].apply(lambda x: x.split(\" \")[0] if x.split(\" \")[0] not in [\"La\", \"Le\", \"Les\"] else x)\n",
    "connections_tgv['arrival_city'] = connections_tgv['arrival_station'].apply(lambda x: x.split(\" \")[0] if x.split(\" \")[0] not in [\"La\", \"Le\"] else x)\n",
    "\n",
    "connections_tgv = connections_tgv.merge(stops_filtered_tgv, how='left', left_on='stop_id_start', right_on='stop_id', suffixes=('', '_start'))\n",
    "\n",
    "connections_tgv.rename(columns={'stop_lat': 'stop_lat_start', 'stop_lon': 'stop_lon_start'}, inplace=True)\n",
    "\n",
    "stops_df_tgv_end = stops_filtered_tgv.rename(columns={'stop_id': 'stop_id_end', 'stop_lat': 'stop_lat_end', 'stop_lon': 'stop_lon_end'})\n",
    "\n",
    "connections_tgv = connections_tgv.merge(stops_df_tgv_end, how='left', on='stop_id_end', suffixes=('', '_end'))\n",
    "\n",
    "stops_df_tgv_end = stops_filtered_tgv.rename(columns={'stop_id_start': 'stop_id_end', 'stop_lat': 'stop_lat_end', 'stop_lon': 'stop_lon_end'})\n",
    "\n",
    "connections_tgv = connections_tgv[['stop_id_start', 'stop_id_end', 'travel_time', 'trip_id', 'departure_station',\n",
    "         'stop_lat_start', 'stop_lon_start', 'stop_lat_end', 'stop_lon_end',\n",
    "         'arrival_station', 'trip_type', 'departure_city', 'arrival_city']]\n",
    "\n",
    "connections_tgv = connections_tgv.loc[:,~connections_tgv.columns.duplicated()].copy()\n",
    "\n"
   ],
   "metadata": {
    "collapsed": false,
    "ExecuteTime": {
     "end_time": "2024-10-24T13:21:40.510877Z",
     "start_time": "2024-10-24T13:21:40.415551Z"
    }
   },
   "id": "3ac62f49c59b6a7f",
   "execution_count": 57
  },
  {
   "cell_type": "markdown",
   "source": [
    "# Fusion des deux datasets"
   ],
   "metadata": {
    "collapsed": false
   },
   "id": "6bd33c851d941ceb"
  },
  {
   "cell_type": "code",
   "outputs": [
    {
     "data": {
      "text/plain": "Empty DataFrame\nColumns: [stop_id_start, stop_id_end, travel_time, trip_id, departure_station, stop_lat_start, stop_lon_start, stop_lat_end, stop_lon_end, arrival_station, trip_type, departure_city, arrival_city]\nIndex: []",
      "text/html": "<div>\n<style scoped>\n    .dataframe tbody tr th:only-of-type {\n        vertical-align: middle;\n    }\n\n    .dataframe tbody tr th {\n        vertical-align: top;\n    }\n\n    .dataframe thead th {\n        text-align: right;\n    }\n</style>\n<table border=\"1\" class=\"dataframe\">\n  <thead>\n    <tr style=\"text-align: right;\">\n      <th></th>\n      <th>stop_id_start</th>\n      <th>stop_id_end</th>\n      <th>travel_time</th>\n      <th>trip_id</th>\n      <th>departure_station</th>\n      <th>stop_lat_start</th>\n      <th>stop_lon_start</th>\n      <th>stop_lat_end</th>\n      <th>stop_lon_end</th>\n      <th>arrival_station</th>\n      <th>trip_type</th>\n      <th>departure_city</th>\n      <th>arrival_city</th>\n    </tr>\n  </thead>\n  <tbody>\n  </tbody>\n</table>\n</div>"
     },
     "execution_count": 55,
     "metadata": {},
     "output_type": "execute_result"
    }
   ],
   "source": [
    "connections = pd.concat([connections_tgv, connections_ter], ignore_index=True)\n",
    "\n",
    "connections = connections.loc[connections.groupby(['departure_station', 'arrival_station'])['travel_time'].idxmin()].reset_index(drop=True)\n",
    "\n",
    "connections\n",
    "\n",
    "connections[(connections[\"departure_city\"] == \"Bordeaux\") & (connections[\"arrival_city\"] == \"Marseille\")]"
   ],
   "metadata": {
    "collapsed": false,
    "ExecuteTime": {
     "end_time": "2024-10-24T13:21:20.111425Z",
     "start_time": "2024-10-24T13:21:19.960518Z"
    }
   },
   "id": "e5338086b942b21d",
   "execution_count": 55
  },
  {
   "cell_type": "markdown",
   "source": [
    "# Calcul de la distance en KM entre la ville de départ et la ville d'arrivée (Pas optimisée)"
   ],
   "metadata": {
    "collapsed": false
   },
   "id": "9ed1f6557e5f74b8"
  },
  {
   "cell_type": "code",
   "outputs": [],
   "source": [
    "import geopy.distance\n",
    "\n",
    "def calculate_distance(row):\n",
    "    start_coords = (row['stop_lat_start'], row['stop_lon_start'])\n",
    "    end_coords = (row['stop_lat_end'], row['stop_lon_end'])\n",
    "    return geopy.distance.geodesic(start_coords, end_coords).kilometers\n",
    "\n",
    "connections['distance_km'] = connections.apply(calculate_distance, axis=1)"
   ],
   "metadata": {
    "collapsed": false
   },
   "id": "7a7c594501a2f23c",
   "execution_count": null
  },
  {
   "cell_type": "markdown",
   "source": [
    "# Génération du Graph d'après le dataset formaté"
   ],
   "metadata": {
    "collapsed": false
   },
   "id": "5fbc42733a4c91f6"
  },
  {
   "cell_type": "code",
   "outputs": [],
   "source": [
    "import networkx as nx\n",
    "\n",
    "G = nx.DiGraph()\n",
    "\n",
    "for index, row in connections.iterrows():\n",
    "    G.add_edge(row['departure_station'], row['arrival_station'], weight=row['travel_time'])"
   ],
   "metadata": {
    "collapsed": false,
    "ExecuteTime": {
     "end_time": "2024-10-24T13:19:26.345174Z",
     "start_time": "2024-10-24T13:19:26.057672Z"
    }
   },
   "id": "dfb5b4d825fae7a1",
   "execution_count": 53
  },
  {
   "cell_type": "code",
   "outputs": [
    {
     "data": {
      "text/plain": "(['Bordeaux Saint-Jean',\n  'Toulouse Matabiau',\n  'Carcassonne',\n  'Lézignan-Corbières',\n  'Narbonne',\n  'Béziers',\n  'Sète',\n  'Montpellier Sud de France',\n  'Nîmes Pont du Gard',\n  'Tarascon-sur-Rhône',\n  'Avignon Centre',\n  'Avignon TGV',\n  'Marseille Saint-Charles'],\n 333.0)"
     },
     "execution_count": 54,
     "metadata": {},
     "output_type": "execute_result"
    }
   ],
   "source": [
    "from networkx import shortest_path, shortest_path_length\n",
    "\n",
    "shortest_path(G, source='Bordeaux Saint-Jean', target='Marseille Saint-Charles', weight=\"weight\"), shortest_path_length(G, source='Bordeaux Saint-Jean', target='Marseille Saint-Charles', weight=\"weight\")"
   ],
   "metadata": {
    "collapsed": false,
    "ExecuteTime": {
     "end_time": "2024-10-24T13:19:47.631281Z",
     "start_time": "2024-10-24T13:19:47.592136Z"
    }
   },
   "id": "579fd53b3825d9e2",
   "execution_count": 54
  }
 ],
 "metadata": {
  "kernelspec": {
   "display_name": "Python 3",
   "language": "python",
   "name": "python3"
  },
  "language_info": {
   "codemirror_mode": {
    "name": "ipython",
    "version": 2
   },
   "file_extension": ".py",
   "mimetype": "text/x-python",
   "name": "python",
   "nbconvert_exporter": "python",
   "pygments_lexer": "ipython2",
   "version": "2.7.6"
  }
 },
 "nbformat": 4,
 "nbformat_minor": 5
}
