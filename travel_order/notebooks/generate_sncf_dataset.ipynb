{
 "cells": [
  {
   "cell_type": "markdown",
   "source": [
    "# Import des datasets SNCF pour INTERCITES, TER & TGV"
   ],
   "metadata": {
    "collapsed": false
   },
   "id": "91e1b45c6ad04d35"
  },
  {
   "cell_type": "markdown",
   "source": [
    "#### Importer les données GTFS des INTERCITES"
   ],
   "metadata": {
    "collapsed": false
   },
   "id": "90e3ba715e43044d"
  },
  {
   "cell_type": "code",
   "execution_count": null,
   "id": "initial_id",
   "metadata": {
    "collapsed": true
   },
   "outputs": [],
   "source": [
    "import pandas as pd\n",
    "\n",
    "stops_ter = pd.read_csv('../data/input/ter_sncf/stops.csv')\n",
    "trips_ter = pd.read_csv('../data/input/ter_sncf/trips.csv')\n",
    "stop_times_ter = pd.read_csv('../data/input/ter_sncf/stop_times.csv')\n",
    "routes_ter = pd.read_csv('../data/input/ter_sncf/routes.csv')\n",
    "calendar_dates_ter = pd.read_csv('../data/input/ter_sncf/calendar_dates.csv')\n",
    "\n",
    "stops_intercites = pd.read_csv('../data/input/intercites/stops.csv')\n",
    "trips_intercites = pd.read_csv('../data/input/intercites/trips.csv')\n",
    "stop_times_intercites = pd.read_csv('../data/input/intercites/stop_times.csv')\n",
    "routes_intercites = pd.read_csv('../data/input/intercites/routes.csv')\n",
    "calendar_dates_intercites = pd.read_csv('../data/input/intercites/calendar_dates.csv')\n",
    "\n",
    "stops_tgv = pd.read_csv('../data/input/tgv_sncf/stops.txt')\n",
    "trips_tgv = pd.read_csv('../data/input/tgv_sncf/trips.txt')\n",
    "stop_times_tgv = pd.read_csv('../data/input/tgv_sncf/stop_times.txt')\n",
    "routes_tgv = pd.read_csv('../data/input/tgv_sncf/routes.txt')\n",
    "calendar_dates_tgv = pd.read_csv('../data/input/tgv_sncf/calendar_dates.txt')"
   ]
  },
  {
   "cell_type": "markdown",
   "source": [
    "# Calcul des temps de trajets en fonction des horaires et des trajets enregistrés"
   ],
   "metadata": {
    "collapsed": false
   },
   "id": "5f0605c8fb15f57c"
  },
  {
   "cell_type": "code",
   "outputs": [],
   "source": [
    "stops_filtered_ter = stops_ter[['stop_id', 'stop_name', 'stop_lat', 'stop_lon']]\n",
    "stops_filtered_tgv = stops_tgv[['stop_id', 'stop_name', 'stop_lat', 'stop_lon']]"
   ],
   "metadata": {
    "collapsed": false
   },
   "id": "fa79888b63b7f1c",
   "execution_count": null
  },
  {
   "cell_type": "markdown",
   "source": [
    "### Trajets TER"
   ],
   "metadata": {
    "collapsed": false
   },
   "id": "1a2000fa25c0dac7"
  },
  {
   "cell_type": "code",
   "outputs": [],
   "source": [
    "stop_times_trips_ter = pd.merge(stop_times_ter, trips_ter, on='trip_id')\n",
    "\n",
    "stop_times_trips_ter['departure_time'] = pd.to_timedelta(stop_times_trips_ter['departure_time'])\n",
    "stop_times_trips_ter['arrival_time'] = pd.to_timedelta(stop_times_trips_ter['arrival_time'])\n",
    "\n",
    "stop_times_trips_ter['next_stop_id'] = stop_times_trips_ter.groupby('trip_id')['stop_id'].shift(-1)\n",
    "stop_times_trips_ter['next_departure_time'] = stop_times_trips_ter.groupby('trip_id')['departure_time'].shift(-1)\n",
    "\n",
    "stop_times_trips_ter['travel_time'] = (stop_times_trips_ter['next_departure_time'] - stop_times_trips_ter['departure_time']).dt.total_seconds() / 60.0\n",
    "\n",
    "stop_times_trips_ter"
   ],
   "metadata": {
    "collapsed": false
   },
   "id": "669db01762969633",
   "execution_count": null
  },
  {
   "cell_type": "markdown",
   "source": [
    "### Trajets TGV"
   ],
   "metadata": {
    "collapsed": false
   },
   "id": "cb60541a13a46b44"
  },
  {
   "cell_type": "code",
   "outputs": [],
   "source": [
    "stop_times_trips_tgv = pd.merge(stop_times_tgv, trips_tgv, on='trip_id')\n",
    "\n",
    "stop_times_trips_tgv['departure_time'] = pd.to_timedelta(stop_times_trips_tgv['departure_time'])\n",
    "stop_times_trips_tgv['arrival_time'] = pd.to_timedelta(stop_times_trips_tgv['arrival_time'])\n",
    "\n",
    "stop_times_trips_tgv['next_stop_id'] = stop_times_trips_tgv.groupby('trip_id')['stop_id'].shift(-1)\n",
    "stop_times_trips_tgv['next_departure_time'] = stop_times_trips_tgv.groupby('trip_id')['departure_time'].shift(-1)\n",
    "\n",
    "stop_times_trips_tgv['travel_time'] = (stop_times_trips_tgv['next_departure_time'] - stop_times_trips_tgv['departure_time']).dt.total_seconds() / 60.0\n",
    "\n",
    "stop_times_trips_tgv"
   ],
   "metadata": {
    "collapsed": false
   },
   "id": "b20ce2d187a440ab",
   "execution_count": null
  },
  {
   "cell_type": "markdown",
   "source": [
    "# Formatage des datasets et extraction du nom de la ville & positions GPS "
   ],
   "metadata": {
    "collapsed": false
   },
   "id": "1746ed5c8379ea2f"
  },
  {
   "cell_type": "markdown",
   "source": [
    "### Trajets TER"
   ],
   "metadata": {
    "collapsed": false
   },
   "id": "cc656cc5a5c5b903"
  },
  {
   "cell_type": "code",
   "outputs": [],
   "source": [
    "connections_ter = stop_times_trips_ter[['stop_id', 'next_stop_id', 'travel_time', 'trip_id']].dropna()\n",
    "\n",
    "connections_ter = pd.merge(connections_ter, stops_filtered_ter, left_on='stop_id', right_on='stop_id')\n",
    "connections_ter = pd.merge(connections_ter, stops_filtered_ter[['stop_id', 'stop_name']], left_on='next_stop_id', right_on='stop_id', suffixes=('_start', '_end'))\n",
    "\n",
    "connections_ter = connections_ter.rename(columns={'stop_name_start': 'departure_station', 'stop_name_end': 'arrival_station'})\n",
    "\n",
    "connections_ter = connections_ter[connections_ter['travel_time'] > 0].drop_duplicates()\n",
    "\n",
    "connections_ter[\"trip_type\"] = \"TER\"\n",
    "\n",
    "connections_ter['departure_city'] = connections_ter[\"departure_station\"].apply(lambda x: x.split(\" \")[0] if x.split(\" \")[0] not in [\"La\", \"Le\", \"Les\"] else x)\n",
    "connections_ter['arrival_city'] = connections_ter['arrival_station'].apply(lambda x: x.split(\" \")[0] if x.split(\" \")[0] not in [\"La\", \"Le\"] else x)\n",
    "\n",
    "connections_ter = connections_ter.merge(stops_filtered_ter, how='left', left_on='stop_id_start', right_on='stop_id', suffixes=('', '_start'))\n",
    "\n",
    "connections_ter.rename(columns={'stop_lat': 'stop_lat_start', 'stop_lon': 'stop_lon_start'}, inplace=True)\n",
    "\n",
    "stops_df_ter_end = stops_filtered_ter.rename(columns={'stop_id': 'stop_id_end', 'stop_lat': 'stop_lat_end', 'stop_lon': 'stop_lon_end'})\n",
    "\n",
    "connections_ter = connections_ter.merge(stops_df_ter_end, how='left', on='stop_id_end', suffixes=('', '_end'))\n",
    "\n",
    "stops_df_ter_end = stops_filtered_ter.rename(columns={'stop_id_start': 'stop_id_end', 'stop_lat': 'stop_lat_end', 'stop_lon': 'stop_lon_end'})\n",
    "\n",
    "connections_ter = connections_ter[['stop_id_start', 'stop_id_end', 'travel_time', 'trip_id', 'departure_station',\n",
    "         'stop_lat_start', 'stop_lon_start', 'stop_lat_end', 'stop_lon_end',\n",
    "         'arrival_station', 'trip_type', 'departure_city', 'arrival_city']]\n",
    "\n",
    "connections_ter = connections_ter.loc[:,~connections_ter.columns.duplicated()].copy()\n",
    "\n",
    "connections_ter"
   ],
   "metadata": {
    "collapsed": false
   },
   "id": "28ee883bc114b79b",
   "execution_count": null
  },
  {
   "cell_type": "markdown",
   "source": [
    "### Trajets TGV"
   ],
   "metadata": {
    "collapsed": false
   },
   "id": "17feb1afb4a24d5a"
  },
  {
   "cell_type": "code",
   "outputs": [],
   "source": [
    "connections_tgv = stop_times_trips_tgv[['stop_id', 'next_stop_id', 'travel_time', 'trip_id']].dropna()\n",
    "\n",
    "connections_tgv = pd.merge(connections_tgv, stops_filtered_tgv, left_on='stop_id', right_on='stop_id')\n",
    "connections_tgv = pd.merge(connections_tgv, stops_filtered_tgv[['stop_id', 'stop_name']], left_on='next_stop_id', right_on='stop_id', suffixes=('_start', '_end'))\n",
    "\n",
    "connections_tgv = connections_tgv.rename(columns={'stop_name_start': 'departure_station', 'stop_name_end': 'arrival_station'})\n",
    "\n",
    "connections_tgv = connections_tgv[connections_tgv['travel_time'] > 0].drop_duplicates()\n",
    "\n",
    "connections_tgv[\"trip_type\"] = \"TGV\"\n",
    "\n",
    "connections_tgv['departure_city'] = connections_tgv[\"departure_station\"].apply(lambda x: x.split(\" \")[0] if x.split(\" \")[0] not in [\"La\", \"Le\", \"Les\"] else x)\n",
    "connections_tgv['arrival_city'] = connections_tgv['arrival_station'].apply(lambda x: x.split(\" \")[0] if x.split(\" \")[0] not in [\"La\", \"Le\"] else x)\n",
    "\n",
    "connections_tgv = connections_tgv.merge(stops_filtered_tgv, how='left', left_on='stop_id_start', right_on='stop_id', suffixes=('', '_start'))\n",
    "\n",
    "connections_tgv.rename(columns={'stop_lat': 'stop_lat_start', 'stop_lon': 'stop_lon_start'}, inplace=True)\n",
    "\n",
    "stops_df_tgv_end = stops_filtered_tgv.rename(columns={'stop_id': 'stop_id_end', 'stop_lat': 'stop_lat_end', 'stop_lon': 'stop_lon_end'})\n",
    "\n",
    "connections_tgv = connections_tgv.merge(stops_df_tgv_end, how='left', on='stop_id_end', suffixes=('', '_end'))\n",
    "\n",
    "stops_df_tgv_end = stops_filtered_tgv.rename(columns={'stop_id_start': 'stop_id_end', 'stop_lat': 'stop_lat_end', 'stop_lon': 'stop_lon_end'})\n",
    "\n",
    "connections_tgv = connections_tgv[['stop_id_start', 'stop_id_end', 'travel_time', 'trip_id', 'departure_station',\n",
    "         'stop_lat_start', 'stop_lon_start', 'stop_lat_end', 'stop_lon_end',\n",
    "         'arrival_station', 'trip_type', 'departure_city', 'arrival_city']]\n",
    "\n",
    "connections_tgv = connections_tgv.loc[:,~connections_tgv.columns.duplicated()].copy()\n",
    "\n"
   ],
   "metadata": {
    "collapsed": false
   },
   "id": "3ac62f49c59b6a7f",
   "execution_count": null
  },
  {
   "cell_type": "markdown",
   "source": [
    "# Fusion des deux datasets"
   ],
   "metadata": {
    "collapsed": false
   },
   "id": "6bd33c851d941ceb"
  },
  {
   "cell_type": "code",
   "outputs": [],
   "source": [
    "connections = pd.concat([connections_tgv, connections_ter], ignore_index=True)\n",
    "\n",
    "connections = connections.loc[connections.groupby(['departure_station', 'arrival_station'])['travel_time'].idxmin()].reset_index(drop=True)\n",
    "\n",
    "connections\n",
    "\n",
    "connections[(connections[\"departure_city\"] == \"Bordeaux\") & (connections[\"arrival_city\"] == \"Marseille\")]"
   ],
   "metadata": {
    "collapsed": false
   },
   "id": "e5338086b942b21d",
   "execution_count": null
  },
  {
   "cell_type": "markdown",
   "source": [
    "# Calcul de la distance en KM entre la ville de départ et la ville d'arrivée (Pas optimisée)"
   ],
   "metadata": {
    "collapsed": false
   },
   "id": "9ed1f6557e5f74b8"
  },
  {
   "cell_type": "code",
   "outputs": [],
   "source": [
    "import geopy.distance\n",
    "\n",
    "def calculate_distance(row):\n",
    "    start_coords = (row['stop_lat_start'], row['stop_lon_start'])\n",
    "    end_coords = (row['stop_lat_end'], row['stop_lon_end'])\n",
    "    return geopy.distance.geodesic(start_coords, end_coords).kilometers\n",
    "\n",
    "connections['distance_km'] = connections.apply(calculate_distance, axis=1)"
   ],
   "metadata": {
    "collapsed": false
   },
   "id": "7a7c594501a2f23c",
   "execution_count": null
  },
  {
   "cell_type": "markdown",
   "source": [
    "# Génération du Graph d'après le dataset formaté"
   ],
   "metadata": {
    "collapsed": false
   },
   "id": "5fbc42733a4c91f6"
  },
  {
   "cell_type": "code",
   "outputs": [],
   "source": [
    "import networkx as nx\n",
    "\n",
    "G = nx.DiGraph()\n",
    "\n",
    "for index, row in connections.iterrows():\n",
    "    G.add_edge(row['departure_station'], row['arrival_station'], weight=row['travel_time'])"
   ],
   "metadata": {
    "collapsed": false
   },
   "id": "dfb5b4d825fae7a1",
   "execution_count": null
  },
  {
   "cell_type": "code",
   "outputs": [],
   "source": [
    "from networkx import shortest_path, shortest_path_length\n",
    "\n",
    "shortest_path(G, source='Bordeaux Saint-Jean', target='Marseille Saint-Charles', weight=\"weight\"), shortest_path_length(G, source='Bordeaux Saint-Jean', target='Marseille Saint-Charles', weight=\"weight\")"
   ],
   "metadata": {
    "collapsed": false
   },
   "id": "579fd53b3825d9e2",
   "execution_count": null
  }
 ],
 "metadata": {
  "kernelspec": {
   "display_name": "Python 3",
   "language": "python",
   "name": "python3"
  },
  "language_info": {
   "codemirror_mode": {
    "name": "ipython",
    "version": 2
   },
   "file_extension": ".py",
   "mimetype": "text/x-python",
   "name": "python",
   "nbconvert_exporter": "python",
   "pygments_lexer": "ipython2",
   "version": "2.7.6"
  }
 },
 "nbformat": 4,
 "nbformat_minor": 5
}
